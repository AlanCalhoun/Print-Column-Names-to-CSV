{
 "cells": [
  {
   "cell_type": "code",
   "execution_count": 3,
   "id": "a61cea6e",
   "metadata": {},
   "outputs": [
    {
     "name": "stdout",
     "output_type": "stream",
     "text": [
      "Requirement already satisfied: pandas in c:\\users\\acalh\\anaconda3\\lib\\site-packages (1.3.4)\n",
      "Requirement already satisfied: pytz>=2017.3 in c:\\users\\acalh\\anaconda3\\lib\\site-packages (from pandas) (2021.3)\n",
      "Requirement already satisfied: python-dateutil>=2.7.3 in c:\\users\\acalh\\anaconda3\\lib\\site-packages (from pandas) (2.8.2)\n",
      "Requirement already satisfied: numpy>=1.17.3 in c:\\users\\acalh\\anaconda3\\lib\\site-packages (from pandas) (1.20.3)\n",
      "Requirement already satisfied: six>=1.5 in c:\\users\\acalh\\anaconda3\\lib\\site-packages (from python-dateutil>=2.7.3->pandas) (1.16.0)\n"
     ]
    }
   ],
   "source": [
    "# Install if needed\n",
    "!pip install pandas"
   ]
  },
  {
   "cell_type": "code",
   "execution_count": 116,
   "id": "9a990241",
   "metadata": {},
   "outputs": [],
   "source": [
    "# Print Column Names\n",
    "\n",
    "# Imports\n",
    "import pandas as pd\n",
    "import os as os\n",
    "import csv as csv\n",
    "import zipfile as zp\n",
    "\n",
    "pd.options.mode.use_inf_as_na = True"
   ]
  },
  {
   "cell_type": "code",
   "execution_count": 117,
   "id": "aae2a774",
   "metadata": {},
   "outputs": [],
   "source": [
    "# Initialization\n",
    "dir_name = \"C:/Folder_Name_With_CSV_Files\"\n",
    "out_csv = \"C:/Location_and_Name_of_Output_CSV.csv\""
   ]
  },
  {
   "cell_type": "code",
   "execution_count": 118,
   "id": "3946f39c",
   "metadata": {},
   "outputs": [],
   "source": [
    "# Read in CSVs\n",
    "files = os.listdir(dir_name)\n",
    "dfs = []\n",
    "for fi in files:\n",
    "    full_path = os.path.join(dir_name, fi)\n",
    "    ext = os.path.splitext(full_path)[1]\n",
    "    is_file = os.path.isfile(full_path)\n",
    "    is_csv_or_txt = (ext == \".csv\" or ext == \".txt\")\n",
    "    if is_file and is_csv_or_txt:\n",
    "        try:\n",
    "            df = pd.read_csv(full_path, nrows=1000)\n",
    "            dfs.append([fi, df.columns, df.dtypes])\n",
    "        except:\n",
    "            pass"
   ]
  },
  {
   "cell_type": "code",
   "execution_count": 119,
   "id": "7f4288a8",
   "metadata": {},
   "outputs": [],
   "source": [
    "with open(out_csv, 'w', newline='\\n') as csv_fi:\n",
    "    csv_writer = csv.writer(csv_fi)\n",
    "    csv_writer.writerow([\"file_name\", \"column_name\", \"data_type\", \"sample_value\", \"description\"])\n",
    "    for df in dfs:\n",
    "        for x in range(len(df[1])):\n",
    "            csv_writer.writerow([df[0], df[1][x], df[2][x], None, \"\"])"
   ]
  },
  {
   "cell_type": "code",
   "execution_count": null,
   "id": "0472770e",
   "metadata": {},
   "outputs": [],
   "source": []
  }
 ],
 "metadata": {
  "kernelspec": {
   "display_name": "Python 3 (ipykernel)",
   "language": "python",
   "name": "python3"
  },
  "language_info": {
   "codemirror_mode": {
    "name": "ipython",
    "version": 3
   },
   "file_extension": ".py",
   "mimetype": "text/x-python",
   "name": "python",
   "nbconvert_exporter": "python",
   "pygments_lexer": "ipython3",
   "version": "3.9.7"
  }
 },
 "nbformat": 4,
 "nbformat_minor": 5
}
